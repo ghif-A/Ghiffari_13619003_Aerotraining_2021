{
 "cells": [
  {
   "cell_type": "markdown",
   "id": "23342359",
   "metadata": {},
   "source": [
    "# Homework 1 Aerotraining\n",
    "Ghiffari Ahmadijaya\n",
    "\n",
    "13619003"
   ]
  },
  {
   "cell_type": "markdown",
   "id": "13b6839f",
   "metadata": {},
   "source": [
    "## Problem 1"
   ]
  },
  {
   "cell_type": "code",
   "execution_count": 1,
   "id": "e43f72b2",
   "metadata": {},
   "outputs": [
    {
     "name": "stdout",
     "output_type": "stream",
     "text": [
      "1\n",
      "2\n",
      "Fizz\n",
      "4\n",
      "Buzz\n",
      "Fizz\n",
      "7\n",
      "8\n",
      "Fizz\n",
      "Buzz\n",
      "11\n",
      "Fizz\n",
      "13\n",
      "14\n",
      "FizzBuzz\n",
      "16\n",
      "17\n",
      "Fizz\n",
      "19\n",
      "Buzz\n",
      "Fizz\n",
      "22\n",
      "23\n",
      "Fizz\n",
      "Buzz\n",
      "26\n",
      "Fizz\n",
      "28\n",
      "29\n",
      "FizzBuzz\n",
      "31\n",
      "32\n",
      "Fizz\n",
      "34\n",
      "Buzz\n",
      "Fizz\n",
      "37\n",
      "38\n",
      "Fizz\n",
      "Buzz\n",
      "41\n",
      "Fizz\n",
      "43\n",
      "44\n",
      "FizzBuzz\n",
      "46\n",
      "47\n",
      "Fizz\n",
      "49\n",
      "Buzz\n",
      "Fizz\n",
      "52\n",
      "53\n",
      "Fizz\n",
      "Buzz\n",
      "56\n",
      "Fizz\n",
      "58\n",
      "59\n",
      "FizzBuzz\n",
      "61\n",
      "62\n",
      "Fizz\n",
      "64\n",
      "Buzz\n",
      "Fizz\n",
      "67\n",
      "68\n",
      "Fizz\n",
      "Buzz\n",
      "71\n",
      "Fizz\n",
      "73\n",
      "74\n",
      "FizzBuzz\n",
      "76\n",
      "77\n",
      "Fizz\n",
      "79\n",
      "Buzz\n",
      "Fizz\n",
      "82\n",
      "83\n",
      "Fizz\n",
      "Buzz\n",
      "86\n",
      "Fizz\n",
      "88\n",
      "89\n",
      "FizzBuzz\n",
      "91\n",
      "92\n",
      "Fizz\n",
      "94\n",
      "Buzz\n",
      "Fizz\n",
      "97\n",
      "98\n",
      "Fizz\n",
      "Buzz\n"
     ]
    }
   ],
   "source": [
    "# Solution\n",
    "for i in range(100):\n",
    "    i+=1\n",
    "    if i%3==0 and i%5==0:\n",
    "        print('FizzBuzz')\n",
    "    elif i%3==0:\n",
    "        print('Fizz')\n",
    "    elif i%5==0:\n",
    "        print('Buzz')\n",
    "    else:\n",
    "        print(i)"
   ]
  },
  {
   "cell_type": "markdown",
   "id": "33bcc8ac",
   "metadata": {},
   "source": [
    "### Explanation\n",
    "Program dijalankan dengan iterasi for loop dengan range 100, kemudian variabel i ditambah 1 karena index diawali dengan 0. Lalu dicek kondisi variabel i. Apabila i mod 3 = 0 dan i mod 5 = 0, maka print 'FizzBuzz'. Selanjutnya, apabila tidak memenuhi kondisi sebelumnya, variabel i akan dicek kembali dengan kondisi i mod 3 = 0. Apabila nilainya True, maka print 'Fizz'. Apabila False, maka akan dicek ke kondisi selanjutnya yaitu i mod 5 = 0. Apabila nilainya True, maka print 'Buzz'. Apabila False, maka print nilai i."
   ]
  },
  {
   "cell_type": "markdown",
   "id": "29f156ca",
   "metadata": {},
   "source": [
    "## Problem 2"
   ]
  },
  {
   "cell_type": "code",
   "execution_count": 2,
   "id": "b01eb953",
   "metadata": {},
   "outputs": [
    {
     "name": "stdout",
     "output_type": "stream",
     "text": [
      "Input: malayalam\n",
      "Output: Yes\n"
     ]
    }
   ],
   "source": [
    "# Solution\n",
    "s = input('Input: ')\n",
    "n = len(s) // 2\n",
    "palindrom = True\n",
    "for i in range(n):\n",
    "    if s[i] != s[-1*i-1]:\n",
    "        palindrom = False\n",
    "        break\n",
    "if palindrom == True:\n",
    "    print('Output: Yes')\n",
    "else:\n",
    "    print('Output: No')"
   ]
  },
  {
   "cell_type": "markdown",
   "id": "79cfdefa",
   "metadata": {},
   "source": [
    "### Explanation\n",
    "Program diawali dengan input kata dari user. Lalu, dihitung jumlah huruf dari kata tersebut dibagi 2 dan dibulatkan ke bawah. Kemudian, deklarasi variabel boolean palindrom = True. Selanjutnya dilakukan iterasi for loop terhadap variabel s. Iterasi dilakukan dengan pengecekan 1-1 huruf awal dan akhir yang kemudian indeks awal dan akhir tersebut digeser 1x menuju tengah secara berulang. Apabila huruf tidak sama, maka variabel palindrom diubah menjadi False dan program akan keluar dari perulangan tersebut. Terakhir output hasil dari pengecekan palindrom."
   ]
  }
 ],
 "metadata": {
  "kernelspec": {
   "display_name": "Python 3",
   "language": "python",
   "name": "python3"
  },
  "language_info": {
   "codemirror_mode": {
    "name": "ipython",
    "version": 3
   },
   "file_extension": ".py",
   "mimetype": "text/x-python",
   "name": "python",
   "nbconvert_exporter": "python",
   "pygments_lexer": "ipython3",
   "version": "3.8.8"
  }
 },
 "nbformat": 4,
 "nbformat_minor": 5
}
