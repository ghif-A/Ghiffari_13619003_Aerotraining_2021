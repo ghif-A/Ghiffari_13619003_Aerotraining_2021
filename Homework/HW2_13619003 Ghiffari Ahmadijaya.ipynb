{
 "cells": [
  {
   "cell_type": "markdown",
   "id": "e15fb3eb",
   "metadata": {},
   "source": [
    "# Homework 2 Aerotraining : Functions & OOP\n",
    "Ghiffari Ahmadijaya\n",
    "\n",
    "13619003\n",
    "\n",
    "## Isentropic Flow Relations Calculator"
   ]
  },
  {
   "cell_type": "code",
   "execution_count": 1,
   "id": "ec5bd948",
   "metadata": {},
   "outputs": [],
   "source": [
    "class IsentropicFlow:\n",
    "    def __init__(self, M, gamma):\n",
    "        self.M = M\n",
    "        self.gamma = gamma\n",
    "        \n",
    "    def T_over_T0(self):\n",
    "        return (1 + (self.gamma - 1) / 2 * self.M ** 2) ** -1\n",
    "    \n",
    "    def rho_over_rho0(self):\n",
    "        return (1 / self.T_over_T0()) ** (-1 / (self.gamma - 1))\n",
    "    \n",
    "    def P_over_P0(self):\n",
    "        return (1 / self.T_over_T0()) ** (-self.gamma / (self.gamma - 1))\n",
    "    \n",
    "    def A_over_Astar(self):\n",
    "        return 1/self.M * ((((self.gamma + 1) / 2 ) * self.T_over_T0()) ** ((self.gamma + 1)/(2 * (1 - self.gamma))))\n",
    "    \n",
    "    def T_over_Tstar(self):\n",
    "        temp = self.M\n",
    "        self.M = 1\n",
    "        Tstar_over_T0 = self.T_over_T0()\n",
    "        self.M = temp\n",
    "        T_over_Tstar = self.T_over_T0() / Tstar_over_T0\n",
    "        return T_over_Tstar\n",
    "    \n",
    "    def rho_over_rhostar(self):\n",
    "        temp = self.M\n",
    "        self.M = 1\n",
    "        rhostar_over_rho0 = self.rho_over_rho0()\n",
    "        self.M = temp\n",
    "        rho_over_rhostar = self.rho_over_rho0() / rhostar_over_rho0\n",
    "        return rho_over_rhostar\n",
    "    \n",
    "    def P_over_Pstar(self):\n",
    "        temp = self.M\n",
    "        self.M = 1\n",
    "        Pstar_over_P0 = self.P_over_P0()\n",
    "        self.M = temp\n",
    "        P_over_Pstar = self.P_over_P0() / Pstar_over_P0\n",
    "        return P_over_Pstar"
   ]
  },
  {
   "cell_type": "markdown",
   "id": "fbdb73ce",
   "metadata": {},
   "source": [
    "### Penjelasan\n",
    "Program dimulai dengan deklarasi class. Class ini terdiri atas 2 properties dan 7 methods. Propertinya adalah Mach number dan $\\gamma$ (specific heat ratio). Untuk methodnya adalah perhitungan rasio variabel aliran isentropic, yaitu $\\frac{T}{T_{0}}$, $\\frac{P}{P_{0}}$, $\\frac{\\rho}{\\rho_{0}}$, $\\frac{A}{A^{*}}$, $\\frac{T}{T^{*}}$, $\\frac{\\rho}{\\rho^{*}}$, dan $\\frac{P}{P^{*}}$."
   ]
  },
  {
   "cell_type": "code",
   "execution_count": 2,
   "id": "f00fbde7",
   "metadata": {},
   "outputs": [
    {
     "name": "stdout",
     "output_type": "stream",
     "text": [
      "for Mach number = 0.8 and gamma = 1.4 :\n",
      "\n",
      "T/T0 = 0.8865248226950354\n",
      "P/P0 = 0.6560216183589749\n",
      "rho/rho0 = 0.7399923855089238\n",
      "A/A* = 1.03823\n",
      "T/T* = 1.0638297872340425\n",
      "rho/rho* = 1.167294303144854\n",
      "P/P* = 1.2418024501540998\n"
     ]
    }
   ],
   "source": [
    "flow1 = IsentropicFlow(0.8,1.4)\n",
    "print('for Mach number =', flow1.M, 'and gamma =', flow1.gamma, ':\\n')\n",
    "print('T/T0 =', flow1.T_over_T0())\n",
    "print('P/P0 =', flow1.P_over_P0())\n",
    "print('rho/rho0 =', flow1.rho_over_rho0())\n",
    "print('A/A* =', flow1.A_over_Astar())\n",
    "print('T/T* =', flow1.T_over_Tstar())\n",
    "print('rho/rho* =', flow1.rho_over_rhostar())\n",
    "print('P/P* =', flow1.P_over_Pstar())"
   ]
  },
  {
   "cell_type": "markdown",
   "id": "adf11fa8",
   "metadata": {},
   "source": [
    "### Penjelasan\n",
    "Cell di atas merupakan contoh eksekusi program. Program dijalankan dengan membuat objek flow1 dengan class IsentropicFlow yang telah dibuat sebelumnya. Objek flow1 dideklarasikan dengan input $M = 0.8$ dan $\\gamma = 1.4$. Kemudian rasio variabel dihasilkan dengan meng-print semua method."
   ]
  }
 ],
 "metadata": {
  "kernelspec": {
   "display_name": "Python 3",
   "language": "python",
   "name": "python3"
  },
  "language_info": {
   "codemirror_mode": {
    "name": "ipython",
    "version": 3
   },
   "file_extension": ".py",
   "mimetype": "text/x-python",
   "name": "python",
   "nbconvert_exporter": "python",
   "pygments_lexer": "ipython3",
   "version": "3.8.8"
  }
 },
 "nbformat": 4,
 "nbformat_minor": 5
}
